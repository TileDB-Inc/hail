{
 "cells": [
  {
   "cell_type": "code",
   "execution_count": 1,
   "id": "fifteen-vinyl",
   "metadata": {},
   "outputs": [
    {
     "name": "stderr",
     "output_type": "stream",
     "text": [
      "Running on Apache Spark version 2.4.5\n",
      "SparkUI available at http://victors-mbp:4040\n",
      "Welcome to\n",
      "     __  __     <>__\n",
      "    / /_/ /__  __/ /\n",
      "   / __  / _ `/ / /\n",
      "  /_/ /_/\\_,_/_/_/   version 0.2.61-02e167f387fe\n",
      "LOGGING: writing to /Users/victor/Dev/tiledb/hail/hail/python/hail-20210202-2110-0.2.61-02e167f387fe.log\n"
     ]
    }
   ],
   "source": [
    "# Initialize Hail\n",
    "import hail as hl\n",
    "from pprint import pprint\n",
    "\n",
    "hl.init()"
   ]
  },
  {
   "cell_type": "code",
   "execution_count": 2,
   "id": "grand-london",
   "metadata": {},
   "outputs": [],
   "source": [
    "# Set-up TileDB-VCF input path and sample IDs\n",
    "path = '/Users/victor/Dev/tiledb/TileDB-VCF/apis/spark/src/test/resources/arrays/v3/ingested_2samples'\n",
    "samples = \"HG01762,HG00280\"\n",
    "\n",
    "# Load VCF\n",
    "mt = hl.import_tiledb_vcf(path=path, samples=samples)"
   ]
  },
  {
   "cell_type": "code",
   "execution_count": 3,
   "id": "increased-supplement",
   "metadata": {},
   "outputs": [
    {
     "name": "stderr",
     "output_type": "stream",
     "text": [
      "2021-02-02 21:11:32 Hail: INFO: Coerced sorted dataset\n"
     ]
    },
    {
     "name": "stdout",
     "output_type": "stream",
     "text": [
      "['C', '<NON_REF>']\n",
      "['C', '<NON_REF>']\n",
      "['G', '<NON_REF>']\n",
      "['G', '<NON_REF>']\n",
      "['T', '<NON_REF>']\n",
      "['T', '<NON_REF>']\n",
      "['G', '<NON_REF>']\n",
      "['T', '<NON_REF>']\n",
      "['C', '<NON_REF>']\n",
      "['G', '<NON_REF>']\n"
     ]
    }
   ],
   "source": [
    "# Print alleles\n",
    "for r in mt.alleles.take(10):\n",
    "    print(r)"
   ]
  },
  {
   "cell_type": "code",
   "execution_count": 4,
   "id": "anonymous-feature",
   "metadata": {},
   "outputs": [
    {
     "name": "stderr",
     "output_type": "stream",
     "text": [
      "2021-02-02 21:11:44 Hail: INFO: Coerced sorted dataset\n"
     ]
    },
    {
     "name": "stdout",
     "output_type": "stream",
     "text": [
      "1:12141\n",
      "1:12141\n",
      "1:12546\n",
      "1:12546\n",
      "1:13354\n",
      "1:13354\n",
      "1:13375\n",
      "1:13396\n",
      "1:13414\n",
      "1:13452\n"
     ]
    }
   ],
   "source": [
    "# Print locus\n",
    "for l in mt.locus.take(10):\n",
    "    print(l)"
   ]
  },
  {
   "cell_type": "code",
   "execution_count": 5,
   "id": "expensive-storm",
   "metadata": {},
   "outputs": [
    {
     "name": "stderr",
     "output_type": "stream",
     "text": [
      "2021-02-02 21:12:10 Hail: INFO: Coerced sorted dataset\n"
     ]
    },
    {
     "data": {
      "text/plain": [
       "{Struct(ref='A', alt='<NON_REF>'): 1,\n",
       " Struct(ref='C', alt='<NON_REF>'): 3,\n",
       " Struct(ref='G', alt='<NON_REF>'): 6,\n",
       " Struct(ref='T', alt='<NON_REF>'): 4}"
      ]
     },
     "execution_count": 5,
     "metadata": {},
     "output_type": "execute_result"
    }
   ],
   "source": [
    "# Aggregate Single Nucleotide Polymorphisms (SNPs) and print\n",
    "snp_counts = mt.aggregate_rows(hl.agg.counter(hl.Struct(ref=mt.alleles[0], alt=mt.alleles[1])))\n",
    "\n",
    "snp_counts"
   ]
  },
  {
   "cell_type": "code",
   "execution_count": null,
   "id": "peripheral-vietnam",
   "metadata": {},
   "outputs": [],
   "source": []
  }
 ],
 "metadata": {
  "kernelspec": {
   "display_name": "hail",
   "language": "python",
   "name": "hail"
  },
  "language_info": {
   "codemirror_mode": {
    "name": "ipython",
    "version": 3
   },
   "file_extension": ".py",
   "mimetype": "text/x-python",
   "name": "python",
   "nbconvert_exporter": "python",
   "pygments_lexer": "ipython3",
   "version": "3.7.9"
  }
 },
 "nbformat": 4,
 "nbformat_minor": 5
}
