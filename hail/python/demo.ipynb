{
 "cells": [
  {
   "cell_type": "code",
   "execution_count": null,
   "id": "educational-blocking",
   "metadata": {},
   "outputs": [],
   "source": [
    "# Initialize Hail\n",
    "import hail as hl\n",
    "from hail.plot import show\n",
    "from pprint import pprint\n",
    "\n",
    "hl.init()"
   ]
  },
  {
   "cell_type": "code",
   "execution_count": 40,
   "id": "identical-advisory",
   "metadata": {},
   "outputs": [],
   "source": [
    "# Set-up TileDB-VCF with 1000Genome Dataset\n",
    "path = '/Users/victor/Dev/tiledb/TileDB-VCF/libtiledbvcf/test/inputs/1kg/1kg_tiledb'\n",
    "samples = \"NA20318\"\n",
    "\n",
    "# Load VCF\n",
    "mt = hl.import_tiledb_vcf(path=path, samples=samples)"
   ]
  },
  {
   "cell_type": "code",
   "execution_count": 41,
   "id": "stock-purpose",
   "metadata": {},
   "outputs": [
    {
     "name": "stderr",
     "output_type": "stream",
     "text": [
      "2021-02-12 15:33:43 Hail: INFO: Ordering unsorted dataset with network shuffle\n"
     ]
    },
    {
     "name": "stdout",
     "output_type": "stream",
     "text": [
      "['T', 'C']\n",
      "['A', 'G']\n",
      "['C', 'T']\n",
      "['T', 'C']\n",
      "['C', 'T']\n",
      "['G', 'A']\n",
      "['A', 'G']\n",
      "['T', 'C']\n",
      "['A', 'G']\n",
      "['C', 'T']\n"
     ]
    }
   ],
   "source": [
    "# Print alleles\n",
    "for r in mt.alleles.take(10):\n",
    "    print(r)"
   ]
  },
  {
   "cell_type": "code",
   "execution_count": 42,
   "id": "limited-airfare",
   "metadata": {},
   "outputs": [
    {
     "name": "stderr",
     "output_type": "stream",
     "text": [
      "2021-02-12 15:33:51 Hail: INFO: Ordering unsorted dataset with network shuffle\n"
     ]
    },
    {
     "name": "stdout",
     "output_type": "stream",
     "text": [
      "1:2779043\n",
      "1:4121584\n",
      "1:7569602\n",
      "1:7887493\n",
      "1:7999602\n",
      "1:8960153\n",
      "1:8991141\n",
      "1:9514846\n",
      "1:9699768\n",
      "1:9842576\n"
     ]
    }
   ],
   "source": [
    "# Print locus\n",
    "for l in mt.locus.take(10):\n",
    "    print(l)"
   ]
  },
  {
   "cell_type": "code",
   "execution_count": 43,
   "id": "guided-parameter",
   "metadata": {},
   "outputs": [
    {
     "name": "stderr",
     "output_type": "stream",
     "text": [
      "2021-02-12 15:34:05 Hail: INFO: Ordering unsorted dataset with network shuffle\n"
     ]
    },
    {
     "data": {
      "text/plain": [
       "{Struct(ref='C', alt='A'): 207,\n",
       " Struct(ref='A', alt='C'): 226,\n",
       " Struct(ref='C', alt='T'): 1009,\n",
       " Struct(ref='C', alt='G'): 29,\n",
       " Struct(ref='A', alt='T'): 10,\n",
       " Struct(ref='G', alt='A'): 943,\n",
       " Struct(ref='G', alt='C'): 17,\n",
       " Struct(ref='T', alt='G'): 219,\n",
       " Struct(ref='A', alt='G'): 1066,\n",
       " Struct(ref='G', alt='T'): 219,\n",
       " Struct(ref='T', alt='C'): 939,\n",
       " Struct(ref='T', alt='A'): 15}"
      ]
     },
     "execution_count": 43,
     "metadata": {},
     "output_type": "execute_result"
    }
   ],
   "source": [
    "# Aggregate Single Nucleotide Polymorphisms (SNPs) and print\n",
    "snp_counts = mt.aggregate_rows(hl.agg.counter(hl.Struct(ref=mt.alleles[0], alt=mt.alleles[1])))\n",
    "\n",
    "snp_counts"
   ]
  },
  {
   "cell_type": "code",
   "execution_count": 44,
   "id": "nasty-attraction",
   "metadata": {},
   "outputs": [
    {
     "name": "stdout",
     "output_type": "stream",
     "text": [
      "--------------------------------------------------------\n",
      "Type:\n",
      "        struct {\n",
      "        s: str, \n",
      "        sample_qc: struct {\n",
      "            dp_stats: struct {\n",
      "                mean: float64, \n",
      "                stdev: float64, \n",
      "                min: float64, \n",
      "                max: float64\n",
      "            }, \n",
      "            call_rate: float64, \n",
      "            n_called: int64, \n",
      "            n_not_called: int64, \n",
      "            n_filtered: int64, \n",
      "            n_hom_ref: int64, \n",
      "            n_het: int64, \n",
      "            n_hom_var: int64, \n",
      "            n_non_ref: int64, \n",
      "            n_singleton: int64, \n",
      "            n_snp: int64, \n",
      "            n_insertion: int64, \n",
      "            n_deletion: int64, \n",
      "            n_transition: int64, \n",
      "            n_transversion: int64, \n",
      "            n_star: int64, \n",
      "            r_ti_tv: float64, \n",
      "            r_het_hom_var: float64, \n",
      "            r_insertion_deletion: float64\n",
      "        }\n",
      "    }\n",
      "--------------------------------------------------------\n",
      "Source:\n",
      "    <hail.matrixtable.MatrixTable object at 0x7fbbc362b690>\n",
      "Index:\n",
      "    ['column']\n",
      "--------------------------------------------------------\n"
     ]
    },
    {
     "name": "stderr",
     "output_type": "stream",
     "text": [
      "2021-02-12 15:34:33 Hail: INFO: Ordering unsorted dataset with network shuffle\n",
      "2021-02-12 15:34:40 Hail: INFO: Ordering unsorted dataset with network shuffle\n"
     ]
    }
   ],
   "source": [
    "mt = hl.sample_qc(mt)\n",
    "\n",
    "mt.col.describe()\n",
    "\n",
    "p = hl.plot.histogram(mt.sample_qc.call_rate, range=(.88,1), legend='Call Rate')\n",
    "\n",
    "show(p)"
   ]
  },
  {
   "cell_type": "code",
   "execution_count": 45,
   "id": "textile-malaysia",
   "metadata": {},
   "outputs": [
    {
     "name": "stderr",
     "output_type": "stream",
     "text": [
      "2021-02-12 15:35:12 Hail: INFO: Ordering unsorted dataset with network shuffle\n"
     ]
    },
    {
     "data": {
      "text/plain": [
       "[Call(alleles=[0, 1], phased=False),\n",
       " Call(alleles=[0, 1], phased=False),\n",
       " Call(alleles=[0, 1], phased=False),\n",
       " Call(alleles=[1, 1], phased=False),\n",
       " Call(alleles=[0, 1], phased=False),\n",
       " Call(alleles=[0, 1], phased=False),\n",
       " Call(alleles=[1, 1], phased=False),\n",
       " Call(alleles=[0, 1], phased=False),\n",
       " Call(alleles=[1, 1], phased=False),\n",
       " Call(alleles=[0, 1], phased=False)]"
      ]
     },
     "execution_count": 45,
     "metadata": {},
     "output_type": "execute_result"
    }
   ],
   "source": [
    "# Collect GT\n",
    "mt.GT.take(10)"
   ]
  },
  {
   "cell_type": "code",
   "execution_count": 46,
   "id": "chinese-vegetarian",
   "metadata": {},
   "outputs": [
    {
     "name": "stderr",
     "output_type": "stream",
     "text": [
      "2021-02-12 15:35:26 Hail: INFO: Ordering unsorted dataset with network shuffle\n"
     ]
    },
    {
     "data": {
      "text/plain": [
       "[5, 8, 5, 14, 8, 8, 6, 8, 9, 9]"
      ]
     },
     "execution_count": 46,
     "metadata": {},
     "output_type": "execute_result"
    }
   ],
   "source": [
    "# Collect DP\n",
    "mt.DP.take(10)"
   ]
  },
  {
   "cell_type": "code",
   "execution_count": 47,
   "id": "taken-syntax",
   "metadata": {},
   "outputs": [
    {
     "name": "stderr",
     "output_type": "stream",
     "text": [
      "2021-02-12 15:35:37 Hail: INFO: Ordering unsorted dataset with network shuffle\n"
     ]
    },
    {
     "data": {
      "text/plain": [
       "[[124, 0, 16],\n",
       " [85, 0, 135],\n",
       " [57, 0, 99],\n",
       " [622, 60, 0],\n",
       " [123, 0, 116],\n",
       " [96, 0, 162],\n",
       " [169, 18, 0],\n",
       " [159, 0, 72],\n",
       " [317, 27, 0],\n",
       " [232, 0, 48]]"
      ]
     },
     "execution_count": 47,
     "metadata": {},
     "output_type": "execute_result"
    }
   ],
   "source": [
    "# Collect PL\n",
    "mt.PL.take(10)"
   ]
  },
  {
   "cell_type": "code",
   "execution_count": 49,
   "id": "incident-terry",
   "metadata": {},
   "outputs": [
    {
     "name": "stderr",
     "output_type": "stream",
     "text": [
      "2021-02-12 15:36:39 Hail: INFO: Coerced sorted dataset\n",
      "2021-02-12 15:36:40 Hail: INFO: Coerced sorted dataset\n",
      "2021-02-12 15:36:40 Hail: INFO: Coerced sorted dataset\n",
      "2021-02-12 15:36:41 Hail: INFO: Coerced sorted dataset\n",
      "2021-02-12 15:36:41 Hail: INFO: Coerced sorted dataset\n",
      "2021-02-12 15:36:41 Hail: INFO: Coerced sorted dataset\n"
     ]
    },
    {
     "name": "stdout",
     "output_type": "stream",
     "text": [
      "--- GT ---\n",
      "[Call(alleles=[0, 0], phased=False), Call(alleles=[0, 0], phased=False), Call(alleles=[0, 0], phased=False)]\n",
      "[Call(alleles=[0, 0], phased=False), Call(alleles=[0, 0], phased=False), Call(alleles=[0, 0], phased=False), Call(alleles=[0, 0], phased=False), Call(alleles=[0, 0], phased=False), Call(alleles=[0, 0], phased=False), Call(alleles=[0, 0], phased=False), Call(alleles=[0, 0], phased=False), Call(alleles=[0, 0], phased=False), Call(alleles=[0, 0], phased=False), Call(alleles=[0, 0], phased=False)]\n",
      "\n",
      "--- DP ---\n",
      "[0, 0, 64]\n",
      "[0, 0, 15, 6, 2, 3, 10, 6, 0, 0, 3]\n",
      "\n",
      "--- PL ---\n",
      "[[0, 0, 0], [0, 0, 0], [0, 66, 990]]\n",
      "[[0, 0, 0], [0, 0, 0], [0, 24, 360], [0, 6, 90], [0, 3, 32], [0, 6, 59], [0, 21, 210], [0, 6, 90], [0, 0, 0], [0, 0, 0], [0, 6, 61]]\n"
     ]
    }
   ],
   "source": [
    "# Set-up TileDB-VCF input path and sample IDs\n",
    "path = '/Users/victor/Dev/tiledb/TileDB-VCF/apis/spark/src/test/resources/arrays/v3/ingested_2samples'\n",
    "#samples = \"HG01762\"\n",
    "samples = \"HG00280\"\n",
    "\n",
    "hail_table = hl.import_vcf('/Users/victor/Dev/tiledb/TileDB-VCF/libtiledbvcf/test/inputs/small.vcf')\n",
    "tiledb_table = hl.import_tiledb_vcf(path=path, samples=samples)\n",
    "\n",
    "hail_GT = hail_table.GT.collect()\n",
    "tiledb_GT = tiledb_table.GT.collect()\n",
    "\n",
    "hail_DP = hail_table.DP.collect()\n",
    "tiledb_DP = tiledb_table.DP.collect()\n",
    "\n",
    "hail_PL = hail_table.PL.collect()\n",
    "tiledb_PL = tiledb_table.PL.collect()\n",
    "\n",
    "print(\"--- GT ---\")\n",
    "print(hail_GT)\n",
    "print(tiledb_GT)\n",
    "\n",
    "print()\n",
    "\n",
    "print(\"--- DP ---\")\n",
    "print(hail_DP)\n",
    "print(tiledb_DP)\n",
    "\n",
    "print()\n",
    "\n",
    "print(\"--- PL ---\")\n",
    "print(hail_PL)\n",
    "print(tiledb_PL)"
   ]
  },
  {
   "cell_type": "code",
   "execution_count": null,
   "id": "adaptive-ordering",
   "metadata": {},
   "outputs": [],
   "source": []
  }
 ],
 "metadata": {
  "kernelspec": {
   "display_name": "hail",
   "language": "python",
   "name": "hail"
  },
  "language_info": {
   "codemirror_mode": {
    "name": "ipython",
    "version": 3
   },
   "file_extension": ".py",
   "mimetype": "text/x-python",
   "name": "python",
   "nbconvert_exporter": "python",
   "pygments_lexer": "ipython3",
   "version": "3.7.9"
  }
 },
 "nbformat": 4,
 "nbformat_minor": 5
}
