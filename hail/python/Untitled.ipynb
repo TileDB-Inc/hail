{
 "cells": [
  {
   "cell_type": "code",
   "execution_count": null,
   "id": "personalized-worker",
   "metadata": {},
   "outputs": [],
   "source": [
    "import hail as hl"
   ]
  },
  {
   "cell_type": "code",
   "execution_count": null,
   "id": "progressive-entry",
   "metadata": {},
   "outputs": [],
   "source": [
    "path = '/Users/victor/Dev/tiledb/TileDB-VCF/apis/spark/src/test/resources/arrays/v3/ingested_2samples'\n",
    "samples = \"HG01762,HG00280\"\n",
    "mt = hl.import_vcf(path=path, samples=samples, tiledb=True)"
   ]
  }
 ],
 "metadata": {
  "kernelspec": {
   "display_name": "Python 3",
   "language": "python",
   "name": "python3"
  }
 },
 "nbformat": 4,
 "nbformat_minor": 5
}
